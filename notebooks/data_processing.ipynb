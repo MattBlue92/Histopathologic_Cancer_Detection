{
 "cells": [
  {
   "cell_type": "code",
   "execution_count": 1,
   "outputs": [],
   "source": [
    "import pathlib\n",
    "import shutil\n",
    "\n",
    "import numpy as np\n",
    "import pandas as pd\n",
    "from tqdm.notebook import tqdm"
   ],
   "metadata": {
    "collapsed": false,
    "pycharm": {
     "name": "#%%\n"
    }
   }
  },
  {
   "cell_type": "code",
   "execution_count": 2,
   "outputs": [],
   "source": [
    "pathlib.Path().joinpath('..', 'data', 'images', 'train').mkdir(exist_ok=True)\n",
    "pathlib.Path().joinpath('..', 'data', 'images', 'test').mkdir(exist_ok=True)"
   ],
   "metadata": {
    "collapsed": false,
    "pycharm": {
     "name": "#%%\n"
    }
   }
  },
  {
   "cell_type": "code",
   "execution_count": 3,
   "outputs": [
    {
     "data": {
      "text/plain": "                                              id  label\n0       f38a6374c348f90b587e046aac6079959adf3835      0\n1       c18f2d887b7ae4f6742ee445113fa1aef383ed77      1\n2       755db6279dae599ebb4d39a9123cce439965282d      0\n3       bc3f0c64fb968ff4a8bd33af6971ecae77c75e08      0\n4       068aba587a4950175d04c680d38943fd488d6a9d      0\n...                                          ...    ...\n220020  53e9aa9d46e720bf3c6a7528d1fca3ba6e2e49f6      0\n220021  d4b854fe38b07fe2831ad73892b3cec877689576      1\n220022  3d046cead1a2a5cbe00b2b4847cfb7ba7cf5fe75      0\n220023  f129691c13433f66e1e0671ff1fe80944816f5a2      0\n220024  a81f84895ddcd522302ddf34be02eb1b3e5af1cb      1\n\n[220025 rows x 2 columns]",
      "text/html": "<div>\n<style scoped>\n    .dataframe tbody tr th:only-of-type {\n        vertical-align: middle;\n    }\n\n    .dataframe tbody tr th {\n        vertical-align: top;\n    }\n\n    .dataframe thead th {\n        text-align: right;\n    }\n</style>\n<table border=\"1\" class=\"dataframe\">\n  <thead>\n    <tr style=\"text-align: right;\">\n      <th></th>\n      <th>id</th>\n      <th>label</th>\n    </tr>\n  </thead>\n  <tbody>\n    <tr>\n      <th>0</th>\n      <td>f38a6374c348f90b587e046aac6079959adf3835</td>\n      <td>0</td>\n    </tr>\n    <tr>\n      <th>1</th>\n      <td>c18f2d887b7ae4f6742ee445113fa1aef383ed77</td>\n      <td>1</td>\n    </tr>\n    <tr>\n      <th>2</th>\n      <td>755db6279dae599ebb4d39a9123cce439965282d</td>\n      <td>0</td>\n    </tr>\n    <tr>\n      <th>3</th>\n      <td>bc3f0c64fb968ff4a8bd33af6971ecae77c75e08</td>\n      <td>0</td>\n    </tr>\n    <tr>\n      <th>4</th>\n      <td>068aba587a4950175d04c680d38943fd488d6a9d</td>\n      <td>0</td>\n    </tr>\n    <tr>\n      <th>...</th>\n      <td>...</td>\n      <td>...</td>\n    </tr>\n    <tr>\n      <th>220020</th>\n      <td>53e9aa9d46e720bf3c6a7528d1fca3ba6e2e49f6</td>\n      <td>0</td>\n    </tr>\n    <tr>\n      <th>220021</th>\n      <td>d4b854fe38b07fe2831ad73892b3cec877689576</td>\n      <td>1</td>\n    </tr>\n    <tr>\n      <th>220022</th>\n      <td>3d046cead1a2a5cbe00b2b4847cfb7ba7cf5fe75</td>\n      <td>0</td>\n    </tr>\n    <tr>\n      <th>220023</th>\n      <td>f129691c13433f66e1e0671ff1fe80944816f5a2</td>\n      <td>0</td>\n    </tr>\n    <tr>\n      <th>220024</th>\n      <td>a81f84895ddcd522302ddf34be02eb1b3e5af1cb</td>\n      <td>1</td>\n    </tr>\n  </tbody>\n</table>\n<p>220025 rows × 2 columns</p>\n</div>"
     },
     "execution_count": 3,
     "metadata": {},
     "output_type": "execute_result"
    }
   ],
   "source": [
    "image_info_df = pd.read_csv(pathlib.Path().joinpath('..', 'data', 'informations', 'train_labels.csv'))\n",
    "image_info_df"
   ],
   "metadata": {
    "collapsed": false,
    "pycharm": {
     "name": "#%%\n"
    }
   }
  },
  {
   "cell_type": "code",
   "execution_count": 4,
   "outputs": [],
   "source": [
    "filenames = [filename.name.split('.')[0] for filename in\n",
    "             pathlib.Path().joinpath(\"..\", \"data\", \"images\", \"raw\", \"train\").iterdir()]\n",
    "filenames_df = pd.DataFrame(data={'id': filenames})\n",
    "filenames_df = filenames_df.sample(n=10000)"
   ],
   "metadata": {
    "collapsed": false,
    "pycharm": {
     "name": "#%%\n"
    }
   }
  },
  {
   "cell_type": "code",
   "execution_count": 5,
   "outputs": [],
   "source": [
    "imgs_df = filenames_df.merge(image_info_df, how='inner', on='id')"
   ],
   "metadata": {
    "collapsed": false,
    "pycharm": {
     "name": "#%%\n"
    }
   }
  },
  {
   "cell_type": "code",
   "execution_count": 6,
   "outputs": [
    {
     "data": {
      "text/plain": "                                            id  label    set\n0     d03d75f2785286510118020dec96eb112dddd924      0  train\n1     f9c86a26e36f103a3e46ca2a171b1f2ce84c5e7b      1  train\n2     0e6622c9f9e885adbba4a301db99b5cefc4fad2b      1  train\n3     42165e58034c1d1f5aaea90a25f1b8960b439eb0      0   test\n4     e67763ab96956c992efc39f4e2437979fd80c491      1   test\n...                                        ...    ...    ...\n9995  6effdd0cb4867fe5ae703fba16a9d768b50d4fb2      0  train\n9996  468b01d7c968f7eb156157f06e178e1a2ebf2fdc      0   test\n9997  cf36e3fc2d5f7151aa25c671e5ae50b12bc3a338      0   test\n9998  5921d6e4de70bca65cafb124237ee5bcd3ea90ac      1  train\n9999  12dec659f50bab072f082cf7afd4ae275982b2a7      0  train\n\n[10000 rows x 3 columns]",
      "text/html": "<div>\n<style scoped>\n    .dataframe tbody tr th:only-of-type {\n        vertical-align: middle;\n    }\n\n    .dataframe tbody tr th {\n        vertical-align: top;\n    }\n\n    .dataframe thead th {\n        text-align: right;\n    }\n</style>\n<table border=\"1\" class=\"dataframe\">\n  <thead>\n    <tr style=\"text-align: right;\">\n      <th></th>\n      <th>id</th>\n      <th>label</th>\n      <th>set</th>\n    </tr>\n  </thead>\n  <tbody>\n    <tr>\n      <th>0</th>\n      <td>d03d75f2785286510118020dec96eb112dddd924</td>\n      <td>0</td>\n      <td>train</td>\n    </tr>\n    <tr>\n      <th>1</th>\n      <td>f9c86a26e36f103a3e46ca2a171b1f2ce84c5e7b</td>\n      <td>1</td>\n      <td>train</td>\n    </tr>\n    <tr>\n      <th>2</th>\n      <td>0e6622c9f9e885adbba4a301db99b5cefc4fad2b</td>\n      <td>1</td>\n      <td>train</td>\n    </tr>\n    <tr>\n      <th>3</th>\n      <td>42165e58034c1d1f5aaea90a25f1b8960b439eb0</td>\n      <td>0</td>\n      <td>test</td>\n    </tr>\n    <tr>\n      <th>4</th>\n      <td>e67763ab96956c992efc39f4e2437979fd80c491</td>\n      <td>1</td>\n      <td>test</td>\n    </tr>\n    <tr>\n      <th>...</th>\n      <td>...</td>\n      <td>...</td>\n      <td>...</td>\n    </tr>\n    <tr>\n      <th>9995</th>\n      <td>6effdd0cb4867fe5ae703fba16a9d768b50d4fb2</td>\n      <td>0</td>\n      <td>train</td>\n    </tr>\n    <tr>\n      <th>9996</th>\n      <td>468b01d7c968f7eb156157f06e178e1a2ebf2fdc</td>\n      <td>0</td>\n      <td>test</td>\n    </tr>\n    <tr>\n      <th>9997</th>\n      <td>cf36e3fc2d5f7151aa25c671e5ae50b12bc3a338</td>\n      <td>0</td>\n      <td>test</td>\n    </tr>\n    <tr>\n      <th>9998</th>\n      <td>5921d6e4de70bca65cafb124237ee5bcd3ea90ac</td>\n      <td>1</td>\n      <td>train</td>\n    </tr>\n    <tr>\n      <th>9999</th>\n      <td>12dec659f50bab072f082cf7afd4ae275982b2a7</td>\n      <td>0</td>\n      <td>train</td>\n    </tr>\n  </tbody>\n</table>\n<p>10000 rows × 3 columns</p>\n</div>"
     },
     "execution_count": 6,
     "metadata": {},
     "output_type": "execute_result"
    }
   ],
   "source": [
    "imgs_df['set'] = np.random.choice(['train', 'test'], imgs_df.shape[0], p=[0.7, 0.3])\n",
    "imgs_df"
   ],
   "metadata": {
    "collapsed": false,
    "pycharm": {
     "name": "#%%\n"
    }
   }
  },
  {
   "cell_type": "code",
   "execution_count": 7,
   "outputs": [],
   "source": [
    "def move_data_into_folder(df: pd.DataFrame, src: pathlib.Path, dst: pathlib.Path, ext='.tif'):\n",
    "    for idx, row in tqdm(df.iterrows(), total=df.shape[0], desc='Data transfer'):\n",
    "        id = row['id']\n",
    "        set = row['set']\n",
    "        id = ''.join([id, ext])\n",
    "        if set == 'train':\n",
    "            shutil.move(src=src.joinpath(id), dst=dst.joinpath(set, id))\n",
    "        else:\n",
    "            shutil.move(src=src.joinpath(id), dst=dst.joinpath(set, id))\n",
    "\n"
   ],
   "metadata": {
    "collapsed": false,
    "pycharm": {
     "name": "#%%\n"
    }
   }
  },
  {
   "cell_type": "code",
   "execution_count": 8,
   "outputs": [
    {
     "data": {
      "text/plain": "Data transfer:   0%|          | 0/10000 [00:00<?, ?it/s]",
      "application/vnd.jupyter.widget-view+json": {
       "version_major": 2,
       "version_minor": 0,
       "model_id": "6684712fc6544f69ab8dc66e783fdd68"
      }
     },
     "metadata": {},
     "output_type": "display_data"
    }
   ],
   "source": [
    "move_data_into_folder(df = imgs_df, src = pathlib.Path('..', 'data', 'images', 'raw', 'train'),\n",
    "                      dst=pathlib.Path('..', 'data', 'images'))"
   ],
   "metadata": {
    "collapsed": false,
    "pycharm": {
     "name": "#%%\n"
    }
   }
  },
  {
   "cell_type": "code",
   "execution_count": 9,
   "outputs": [],
   "source": [
    "imgs_df.to_csv(pathlib.Path('..', 'data', 'informations', 'sample.csv'), index=False)"
   ],
   "metadata": {
    "collapsed": false,
    "pycharm": {
     "name": "#%%\n"
    }
   }
  }
 ],
 "metadata": {
  "kernelspec": {
   "display_name": "Python 3",
   "language": "python",
   "name": "python3"
  },
  "language_info": {
   "codemirror_mode": {
    "name": "ipython",
    "version": 2
   },
   "file_extension": ".py",
   "mimetype": "text/x-python",
   "name": "python",
   "nbconvert_exporter": "python",
   "pygments_lexer": "ipython2",
   "version": "2.7.6"
  }
 },
 "nbformat": 4,
 "nbformat_minor": 0
}